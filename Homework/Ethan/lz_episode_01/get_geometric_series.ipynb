{
  "nbformat": 4,
  "nbformat_minor": 0,
  "metadata": {
    "colab": {
      "name": "get_geometric_series.ipynb",
      "version": "0.3.2",
      "provenance": [],
      "collapsed_sections": []
    },
    "kernelspec": {
      "name": "python3",
      "display_name": "Python 3"
    }
  },
  "cells": [
    {
      "cell_type": "code",
      "metadata": {
        "id": "KrpqcbolMcXH",
        "colab_type": "code",
        "colab": {}
      },
      "source": [
        "#Geometric series\n",
        "while 1:\n",
        "    a = input('Input a Integer:')\n",
        "    if a.isdigit() is False:\n",
        "        print('Please input a Integer')\n",
        "        break\n",
        "    r = input('Input a Constant:')\n",
        "    try:\n",
        "        r = float(r)\n",
        "    except Exception as err:\n",
        "        print('Please input a number')\n",
        "        break\n",
        "    n = input('Input the power:')\n",
        "    try:\n",
        "        n = float(n)\n",
        "    except Exception as err:\n",
        "        print('Please input a number')\n",
        "        break\n",
        "    gs_sum = int(a)*(float(r)**float(n)-1)/(float(r)-1)\n",
        "    print('The Sum is', '{:.3f}'.format(gs_sum))"
      ],
      "execution_count": 0,
      "outputs": []
    }
  ]
}