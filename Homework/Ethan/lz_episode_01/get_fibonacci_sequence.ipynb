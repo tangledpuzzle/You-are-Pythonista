{
  "nbformat": 4,
  "nbformat_minor": 0,
  "metadata": {
    "colab": {
      "name": "get_fibonacci_sequence.ipynb",
      "version": "0.3.2",
      "provenance": [],
      "collapsed_sections": []
    },
    "kernelspec": {
      "name": "python3",
      "display_name": "Python 3"
    }
  },
  "cells": [
    {
      "cell_type": "code",
      "metadata": {
        "id": "hTrDIV2HMtne",
        "colab_type": "code",
        "colab": {}
      },
      "source": [
        "#Fibonacci sequence\n",
        "while 1:\n",
        "    n = input('Input your number:')\n",
        "    L = [1,1]\n",
        "    try:\n",
        "        n = int(n)\n",
        "        if n <3:\n",
        "            print('Number should >3')\n",
        "            break\n",
        "    except Exception as err:\n",
        "        print('Please input a number')\n",
        "        break\n",
        "    for i in range(2, n):\n",
        "        t = L[i-1] + L[i-2]\n",
        "        L.append(t)\n",
        "    print(L)"
      ],
      "execution_count": 0,
      "outputs": []
    }
  ]
}