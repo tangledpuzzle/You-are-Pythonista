{
  "nbformat": 4,
  "nbformat_minor": 0,
  "metadata": {
    "colab": {
      "name": "get_prime_number.ipynb",
      "version": "0.3.2",
      "provenance": [],
      "collapsed_sections": []
    },
    "kernelspec": {
      "name": "python3",
      "display_name": "Python 3"
    }
  },
  "cells": [
    {
      "cell_type": "code",
      "metadata": {
        "id": "th9U8FVeFsnu",
        "colab_type": "code",
        "colab": {}
      },
      "source": [
        "#prime nubmer 1000000\n",
        "import numpy\n",
        "t=0\n",
        "for n in range(2,1000001):\n",
        "    result = numpy.sqrt(n)\n",
        "    if result < 2:\n",
        "        print(n, 'is prime nubmer')\n",
        "    else:\n",
        "        counts = 0\n",
        "        for x in range(2,int(numpy.sqrt(n))+1):\n",
        "            r = n/x\n",
        "            if r.is_integer() is True:\n",
        "                counts +=1\n",
        "                break\n",
        "        if counts == 0:        \n",
        "            print(n,'is prime number')\n",
        "            t +=1\n",
        "print('Total:', t)"
      ],
      "execution_count": 0,
      "outputs": []
    }
  ]
}